{
 "cells": [
  {
   "cell_type": "code",
   "execution_count": null,
   "metadata": {},
   "outputs": [],
   "source": [
    "# 1. Prepare dataset\n",
    "\n",
    "# Dataset CIFAR-10\n",
    "# downloaded from: https://www.cs.toronto.edu/~kriz/cifar.html\n",
    "# described in: Learning Multiple Layers of Features from Tiny Images, Alex Krizhevsky, 2009.\n",
    "\n",
    "import pickle\n",
    "import os\n",
    "import tarfile\n",
    "import urllib\n",
    "\n",
    "DATA_URL = 'https://www.cs.toronto.edu/~kriz/cifar-10-python.tar.gz'\n",
    "DATA_TARFILE = 'cifar-10-python.tar.gz'\n",
    "DATA_DIR = 'dataset'\n",
    "DATA_EXTRACTED_DIR = 'dataset/cifar-10-batches-py'\n",
    "\n",
    "def download_extract_dataset(dest_dir):\n",
    "    \"\"\" Download and extract CIFAR-10 dataset (if necessary) to a given directory. \"\"\"\n",
    "    if not os.path.exists(dest_dir):\n",
    "        os.makedirs(dest_dir)\n",
    "    \n",
    "    dest_filename = os.path.join(dest_dir, DATA_TARFILE)\n",
    "    if not os.path.exists(dest_filename):\n",
    "        print('Downloading data from %s...' % DATA_URL)\n",
    "        urllib.urlretrieve(DATA_URL, dest_filename)\n",
    "        print('Download finished')\n",
    "    \n",
    "    if not os.path.exists(DATA_EXTRACTED_DIR):\n",
    "        print('Extracting archive...')\n",
    "        with tarfile.open(dest_filename, \"r:gz\") as tar:\n",
    "            tar.extractall(DATA_DIR)\n",
    "    \n",
    "    print('Dataset ready in directory: %s' % DATA_EXTRACTED_DIR)\n",
    "    \n",
    "def unpickle(file):\n",
    "    with open(file, 'rb') as fo:\n",
    "        dict = pickle.load(fo, encoding='bytes')\n",
    "    return dict\n",
    "\n",
    "\n",
    "download_extract_dataset(DATA_DIR)\n",
    "\n",
    "batch_train_dicts = [unpickle(os.path.join(DATA_EXTRACTED_DIR, ('data_batch_%d' % i))) for i in range(1, 6)]\n",
    "batch_test_dict = unpickle(os.path.join(DATA_EXTRACTED_DIR, 'test_batch'))\n"
   ]
  },
  {
   "cell_type": "code",
   "execution_count": null,
   "metadata": {},
   "outputs": [],
   "source": [
    "# Join training set batches together, for simplified processing\n",
    "\n",
    "import numpy as np\n",
    "np.random.seed(42)\n",
    "\n",
    "def join_batches(batch_dicts):\n",
    "    # TODO: do it faster, with one allocation only (eg. allocation and then slices)\n",
    "    result = dict(batch_dicts[0])\n",
    "    for i in range(1, 5):\n",
    "        result[b'data'] = np.concatenate((result[b'data'], batch_dicts[i][b'data']))\n",
    "        result[b'labels'] = result[b'labels'] + batch_dicts[i][b'labels']\n",
    "    return result\n",
    "\n",
    "train_dict = join_batches(batch_train_dicts)\n",
    "test_dict = batch_test_dict\n",
    "\n",
    "print('Training set size: %d' % train_dict[b'data'].shape[0])"
   ]
  }
 ],
 "metadata": {
  "kernelspec": {
   "display_name": "Python 3",
   "language": "python",
   "name": "python3"
  },
  "language_info": {
   "codemirror_mode": {
    "name": "ipython",
    "version": 3
   },
   "file_extension": ".py",
   "mimetype": "text/x-python",
   "name": "python",
   "nbconvert_exporter": "python",
   "pygments_lexer": "ipython3",
   "version": "3.6.2"
  }
 },
 "nbformat": 4,
 "nbformat_minor": 2
}
